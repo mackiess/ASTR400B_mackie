{
 "cells": [
  {
   "cell_type": "code",
   "execution_count": 1,
   "metadata": {},
   "outputs": [],
   "source": [
    "# Homework 4\n",
    "# Center of Mass Position and Velocity\n",
    "# Sammie Mackie\n",
    "# built w/in provided jupyter notebook"
   ]
  },
  {
   "cell_type": "code",
   "execution_count": 2,
   "metadata": {
    "ExecuteTime": {
     "end_time": "2020-02-04T23:59:21.657237Z",
     "start_time": "2020-02-04T23:59:21.653687Z"
    }
   },
   "outputs": [],
   "source": [
    "# import modules\n",
    "import numpy as np\n",
    "import astropy.units as u\n",
    "import astropy.table as tbl\n",
    "\n",
    "from ReadFile import Read"
   ]
  },
  {
   "cell_type": "code",
   "execution_count": 3,
   "metadata": {
    "ExecuteTime": {
     "end_time": "2020-02-04T23:59:24.003059Z",
     "start_time": "2020-02-04T23:59:23.979271Z"
    }
   },
   "outputs": [],
   "source": [
    "class CenterOfMass:\n",
    "# Class to define COM position and velocity properties of a given galaxy \n",
    "# and simulation snapshot\n",
    "    \n",
    "    \n",
    "    def __init__(self, filename, ptype):\n",
    "    # Initialize the instance of this Class with the following properties:\n",
    "    \n",
    "        # read data in the given file using Read\n",
    "        self.time, self.total, self.data = Read(filename)                                                                                             \n",
    "\n",
    "        #create an array to store indexes of particles of desired Ptype                                \n",
    "        self.index = np.where(self.data['type'] == ptype)\n",
    "\n",
    "        # store the mass, positions, velocities of only the particles of the given type\n",
    "        # the following only gives the example of storing the mass\n",
    "        self.m = self.data['m'][self.index]\n",
    "        # write your own code to complete this for positions and velocities\n",
    "        # the syntax is the same for the other columns of self.data\n",
    "        self.x = self.data['x'][self.index]\n",
    "        self.y = self.data['y'][self.index]\n",
    "        self.z = self.data['z'][self.index]\n",
    "        self.vx = self.data['vx'][self.index]\n",
    "        self.vy = self.data['vy'][self.index]\n",
    "        self.vz = self.data['vz'][self.index]\n",
    "\n",
    "\n",
    "    def COMdefine(self,a,b,c,m):\n",
    "    # Function to compute the center of mass position or velocity generically\n",
    "    # input: array (a,b,c) of positions or velocities and the mass\n",
    "    # returns: 3 floats  (the center of mass coordinates)\n",
    "\n",
    "        # write your own code to compute the generic COM using Eq. 1 in the homework instructions\n",
    "        # the centers of mass are just the sum of position * mass devided by the total mass\n",
    "        # xcomponent Center of mass\n",
    "        Acom = np.sum(a * m) / np.sum(m)\n",
    "        # ycomponent Center of mass\n",
    "        Bcom = np.sum(b * m) / np.sum(m)\n",
    "        # zcomponent Center of mass\n",
    "        Ccom = np.sum(c * m) / np.sum(m)\n",
    "        \n",
    "        return Acom, Bcom, Ccom\n",
    "    \n",
    "    \n",
    "    def COM_P(self, delta):\n",
    "    # Function to specifically return the center of mass position and velocity                                         \n",
    "    # input:                                                                                                           \n",
    "    #        particle type (1,2,3)                                                                                     \n",
    "    #        delta (tolerance)                                                                                         \n",
    "    # returns: One vector, with rows indicating:                                                                                                                                                                            \n",
    "    #       3D coordinates of the center of mass position (kpc)                                                             \n",
    "\n",
    "        # Center of Mass Position                                                                                      \n",
    "        ###########################                                                                                    \n",
    "\n",
    "        # Try a first guess at the COM position by calling COMdefine                                                   \n",
    "        XCOM, YCOM, ZCOM = self.COMdefine(self.x, self.y, self.z, self.m)\n",
    "        # compute the magnitude of the COM position vector.\n",
    "        # write your own code below\n",
    "        RCOM = np.sqrt(XCOM**2 + YCOM**2 + ZCOM**2)\n",
    "        \n",
    "        # iterative process to determine the center of mass                                                            \n",
    "\n",
    "        # change reference frame to COM frame                                                                          \n",
    "        # compute the difference between particle coordinates                                                          \n",
    "        # and the first guess at COM position\n",
    "        # write your own code below\n",
    "        xNew = self.x - XCOM\n",
    "        yNew = self.y - YCOM\n",
    "        zNew = self.z - ZCOM\n",
    "        RNEW = np.sqrt(xNew**2 + yNew**2 + zNew**2)\n",
    "\n",
    "        # find the max 3D distance of all particles from the guessed COM                                               \n",
    "        # will re-start at half that radius (reduced radius)                                                           \n",
    "        RMAX = max(RNEW)/2.0\n",
    "        \n",
    "        # pick an initial value for the change in COM position                                                      \n",
    "        # between the first guess above and the new one computed from half that volume\n",
    "        # it should be larger than the input tolerance (delta) initially\n",
    "        CHANGE = 1000.0\n",
    "\n",
    "        # start iterative process to determine center of mass position                                                 \n",
    "        # delta is the tolerance for the difference in the old COM and the new one.    \n",
    "        \n",
    "        while (CHANGE > delta):\n",
    "            # select all particles within the reduced radius (starting from original x,y,z, m)\n",
    "            # write your own code below (hints, use np.where)\n",
    "            index2 = np.where(RNEW <= RMAX)\n",
    "            x2 = self.x[index2]\n",
    "            y2 = self.y[index2]\n",
    "            z2 = self.z[index2]\n",
    "            m2 = self.m[index2]\n",
    "\n",
    "            # Refined COM position:                                                                                    \n",
    "            # compute the center of mass position using                                                                \n",
    "            # the particles in the reduced radius\n",
    "            # write your own code below\n",
    "            # same syntax as line 57\n",
    "            XCOM2, YCOM2, ZCOM2 = self.COMdefine(x2, y2, z2, m2)\n",
    "            # compute the new 3D COM position\n",
    "            # write your own code below\n",
    "            RCOM2 = np.sqrt(XCOM2**2 + YCOM2**2 + ZCOM2**2)\n",
    "\n",
    "            # determine the difference between the previous center of mass position                                    \n",
    "            # and the new one.                                                                                         \n",
    "            CHANGE = np.abs(RCOM - RCOM2)\n",
    "            # uncomment the following line if you wnat to check this                                                                                               \n",
    "            # print (\"CHANGE = \", CHANGE)                                                                                     \n",
    "\n",
    "            # Before loop continues, reset : RMAX, particle separations and COM\n",
    "\n",
    "            # reduce the volume by a factor of 2 again                                                                 \n",
    "            RMAX = RMAX/2.0\n",
    "            # check this.                                                                                              \n",
    "            # print (\"maxR\", RMAX)                                                                                      \n",
    "\n",
    "            # Change the frame of reference to the newly computed COM.                                                 \n",
    "            # subtract the new COM\n",
    "            # write your own code below\n",
    "            xNew = self.x - XCOM2\n",
    "            yNew = self.y - YCOM2\n",
    "            zNew = self.z - ZCOM2\n",
    "            RNEW = np.sqrt(xNew**2 + yNew**2 + zNew**2)\n",
    "\n",
    "            # set the center of mass positions to the refined values                                                   \n",
    "            XCOM = XCOM2\n",
    "            YCOM = YCOM2\n",
    "            ZCOM = ZCOM2\n",
    "            RCOM = RCOM2\n",
    "\n",
    "            # create a vector to store the COM position                                                                                                                                                       \n",
    "            COMP = [XCOM, YCOM, ZCOM]\n",
    "\n",
    "        # set the correct units usint astropy and round all values\n",
    "        # and then return the COM positon vector\n",
    "        # write your own code below\n",
    "        return np.around(COMP,2)*u.kpc\n",
    "        \n",
    "    \n",
    "\n",
    "    def COM_V(self, COMX, COMY, COMZ):\n",
    "        # Center of Mass velocity\n",
    "        # input: X, Y, Z positions of the COM\n",
    "        # returns 3D Vector of COM Velocities\n",
    "        \n",
    "        # the max distance from the center that we will use to determine the center of mass velocity                   \n",
    "        RVMAX = 15.0*u.kpc\n",
    "\n",
    "        # determine the position of all particles relative to the center of mass position\n",
    "        # write your own code below\n",
    "        # putting units on the self. parts to get rid of unit error\n",
    "        xV = self.x*u.kpc - COMX\n",
    "        yV = self.y*u.kpc - COMY\n",
    "        zV = self.z*u.kpc - COMZ\n",
    "        RV = np.sqrt(xV**2 + yV**2 + zV**2)\n",
    "        \n",
    "        # determine the index for those particles within the max radius\n",
    "        # write your own code below\n",
    "        indexV = np.where(RV < RVMAX)\n",
    "\n",
    "        # determine the velocity and mass of those particles within the mas radius\n",
    "        # write your own code below\n",
    "        vxnew = self.vx[indexV]\n",
    "        vynew = self.vy[indexV]\n",
    "        vznew = self.vz[indexV]\n",
    "        mnew = self.m[indexV]\n",
    "        \n",
    "        # compute the center of mass velocity using those particles\n",
    "        # write your own code below\n",
    "        VXCOM, VYCOM, VZCOM = self.COMdefine(vxnew, vynew, vznew, mnew)\n",
    "\n",
    "        # create a vector to store the COM velocity\n",
    "        # set the correct units usint astropy\n",
    "        # round all values\n",
    "        # write your own code below\n",
    "        COMV = np.around([VXCOM, VYCOM, VZCOM],2) * u.km / u.s\n",
    "\n",
    "        # return the COM vector                                                                                        \n",
    "        return COMV"
   ]
  },
  {
   "cell_type": "code",
   "execution_count": 4,
   "metadata": {
    "ExecuteTime": {
     "end_time": "2020-02-04T23:59:30.160978Z",
     "start_time": "2020-02-04T23:59:26.220455Z"
    }
   },
   "outputs": [],
   "source": [
    "# Create a Center of mass object for the MW, M31 and M33\n",
    "# below is an example of using the class for MW\n",
    "MWCOM = CenterOfMass(\"../../MW_000.txt\", 2)"
   ]
  },
  {
   "cell_type": "code",
   "execution_count": 5,
   "metadata": {
    "ExecuteTime": {
     "end_time": "2020-02-04T23:59:30.820428Z",
     "start_time": "2020-02-04T23:59:30.761163Z"
    }
   },
   "outputs": [],
   "source": [
    "# below gives you an example of calling the class's functions\n",
    "# MW:   store the position and velocity COM\n",
    "MW_COMP = MWCOM.COM_P(0.1)\n",
    "MW_COMV = MWCOM.COM_V(MW_COMP[0], MW_COMP[1], MW_COMP[2])"
   ]
  },
  {
   "cell_type": "code",
   "execution_count": 6,
   "metadata": {},
   "outputs": [
    {
     "name": "stdout",
     "output_type": "stream",
     "text": [
      "MW COM position  =  [-2.07  2.95 -1.45] kpc\n",
      "MW COM velocity  =  [ 0.94  6.32 -1.35] km / s\n",
      "\n",
      "M31 COM position =  [-377.66  611.43 -284.64] kpc\n",
      "M31 COM velocity =  [ 72.85 -72.14  49.  ] km / s\n",
      "\n",
      "M33 COM position =  [-476.22  491.44 -412.4 ] kpc\n",
      "M33 COM velocity =  [ 44.42 101.78 142.23] km / s\n"
     ]
    }
   ],
   "source": [
    "# now write your own code to answer questions\n",
    "\n",
    "# making COM object for M31 and calculating its COM position and velocity\n",
    "M31COM = CenterOfMass(\"../../M31_000.txt\", 2)\n",
    "M31_COMP = M31COM.COM_P(0.1)\n",
    "M31_COMV = M31COM.COM_V(M31_COMP[0], M31_COMP[1], M31_COMP[2])\n",
    "\n",
    "# making COM object for M33 and calculating its COM position and velocity\n",
    "M33COM = CenterOfMass(\"../../M33_000.txt\", 2)\n",
    "M33_COMP = M33COM.COM_P(0.1)\n",
    "M33_COMV = M33COM.COM_V(M33_COMP[0], M33_COMP[1], M33_COMP[2])\n",
    "\n",
    "print(\"MW COM position  = \", MW_COMP)\n",
    "print(\"MW COM velocity  = \", MW_COMV)\n",
    "print(\"\\nM31 COM position = \", M31_COMP)\n",
    "print(\"M31 COM velocity = \", M31_COMV)\n",
    "print(\"\\nM33 COM position = \", M33_COMP)\n",
    "print(\"M33 COM velocity = \", M33_COMV)"
   ]
  },
  {
   "cell_type": "code",
   "execution_count": 7,
   "metadata": {},
   "outputs": [
    {
     "name": "stdout",
     "output_type": "stream",
     "text": [
      "Distance btwn MW and M31 =  769.1 kpc\n",
      "Relative velocity of M31 to MW =  117.74 km / s\n",
      "\n",
      "Distance btwn M31 and M33 =  201.08 kpc\n",
      "Relative velocity of M33 to M31 =  199.37 km / s\n"
     ]
    }
   ],
   "source": [
    "#Calculating the mag. of separation and velocity of the MW and M31\n",
    "MWtoM31_P = MW_COMP - M31_COMP\n",
    "magMWtoM31_P = np.around(np.sqrt(MWtoM31_P[0]**2 + MWtoM31_P[1]**2 + MWtoM31_P[2]**2),2)\n",
    "\n",
    "MWtoM31_V = MW_COMV - M31_COMV\n",
    "magMWtoM31_V = np.around(np.sqrt(MWtoM31_V[0]**2 + MWtoM31_V[1]**2 + MWtoM31_V[2]**2),2)\n",
    "\n",
    "print(\"Distance btwn MW and M31 = \", magMWtoM31_P)\n",
    "print(\"Relative velocity of M31 to MW = \", magMWtoM31_V)\n",
    "\n",
    "#Calculating the mag. of separation and velocity of M31 and M33\n",
    "M31toM33_P = np.abs(M31_COMP - M33_COMP)\n",
    "magM31toM33_P = np.around(np.sqrt(M31toM33_P[0]**2 + M31toM33_P[1]**2 + M31toM33_P[2]**2),2)\n",
    "\n",
    "M31toM33_V = np.abs(M31_COMV - M33_COMV)\n",
    "magM31toM33_V = np.around(np.sqrt(M31toM33_V[0]**2 + M31toM33_V[1]**2 + M31toM33_V[2]**2),2)\n",
    "\n",
    "print(\"\\nDistance btwn M31 and M33 = \", magM31toM33_P)\n",
    "print(\"Relative velocity of M33 to M31 = \", magM31toM33_V)"
   ]
  },
  {
   "cell_type": "markdown",
   "metadata": {},
   "source": [
    "**Question 1:**\n",
    "\n",
    "MW COM position  =  [-0.87  2.39 -1.42] kpc\n",
    "\n",
    "MW COM velocity  =  [-0.47  3.41 -1.33] km / s\n",
    "\n",
    "M31 COM position =  [-377.66  611.43 -284.64] kpc\n",
    "\n",
    "M31 COM velocity =  [ 72.85 -72.14  49.  ] km / s\n",
    "\n",
    "M33 COM position =  [-476.22  491.44 -412.4 ] kpc\n",
    "\n",
    "M33 COM velocity =  [ 44.42 101.78 142.23] km / s\n",
    "\n",
    "**Question 2:**\n",
    "\n",
    "Distance btwn MW and M31 =  770.14 kpc\n",
    "\n",
    "Relative velocity of M31 to MW =  116.69 km / s\n",
    "\n",
    "\n",
    "**Question 3:**\n",
    "\n",
    "Distance btwn M31 and M33 =  201.08 kpc\n",
    "\n",
    "Relative velocity of M33 to M31 =  199.37 km / s\n",
    "\n",
    "**Question 4:**\n",
    "\n",
    "It's important for us to use the iterative process to determine the centers of mass of the galaxies because the precise position and velocity of the COM tells us exactly how the galaxy as a whole will move over a timestep. The COM interacts with every particle, so we need to narrow down exactly where it is at any given time in order to accurately model how it will interact with every particle. We're interested in seeing *how* the MW and M31 will merge, not just the fact that they will merge, so in order to get the details of that event, we need to have a good grasp on how they're moving and also on how their COMs are interacting, which the iterative process gives us by specifying where the COMs are and where they're heading."
   ]
  },
  {
   "cell_type": "markdown",
   "metadata": {},
   "source": [
    "**Some comments:** (Feel free to ignore)\n",
    "\n",
    "Each galaxy's center of mass is at the center of its own coordinate system, so I'm currently not sure how to show M31 and M33 in the MW_000 coordinate system without already knowing their displacement. The subtractions (ex: xNew = X - XCOM) in COM_P cause COM positons to converge towards 0 in x, y and z as they're intended to, I'm just stuck on subtracting the COM displacement (where it actually is) from the original COM calculated in COMdefine\n",
    "\n",
    "I think I skipped the comment in line 110 *# Before loop continues, reset : RMAX, particle separations and COM* and that's why I'm stuck\n",
    "\n",
    "*TODO: Need to reset values listed in line 110?*\n",
    "\n",
    "FIXED"
   ]
  }
 ],
 "metadata": {
  "kernelspec": {
   "display_name": "Python 3",
   "language": "python",
   "name": "python3"
  },
  "language_info": {
   "codemirror_mode": {
    "name": "ipython",
    "version": 3
   },
   "file_extension": ".py",
   "mimetype": "text/x-python",
   "name": "python",
   "nbconvert_exporter": "python",
   "pygments_lexer": "ipython3",
   "version": "3.7.4"
  },
  "varInspector": {
   "cols": {
    "lenName": 16,
    "lenType": 16,
    "lenVar": 40
   },
   "kernels_config": {
    "python": {
     "delete_cmd_postfix": "",
     "delete_cmd_prefix": "del ",
     "library": "var_list.py",
     "varRefreshCmd": "print(var_dic_list())"
    },
    "r": {
     "delete_cmd_postfix": ") ",
     "delete_cmd_prefix": "rm(",
     "library": "var_list.r",
     "varRefreshCmd": "cat(var_dic_list()) "
    }
   },
   "types_to_exclude": [
    "module",
    "function",
    "builtin_function_or_method",
    "instance",
    "_Feature"
   ],
   "window_display": false
  }
 },
 "nbformat": 4,
 "nbformat_minor": 2
}
