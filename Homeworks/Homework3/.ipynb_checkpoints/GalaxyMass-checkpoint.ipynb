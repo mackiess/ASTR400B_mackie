{
 "cells": [
  {
   "cell_type": "code",
   "execution_count": 1,
   "metadata": {},
   "outputs": [],
   "source": [
    "# Homework 3\n",
    "# Feb 6 2020\n",
    "# S. Mackie\n",
    "\n",
    "import numpy as np               # imports NumPy module and renames it np in this script for ease of use\n",
    "import astropy.units as u        # imports AstroPy module and renames it u in this script for ease of use\n",
    "from ReadFile import Read        # imports Read from ReadFile\n",
    "#from astropy.table import QTable # imports the Qtable fucntion from astropy.table"
   ]
  },
  {
   "cell_type": "code",
   "execution_count": 2,
   "metadata": {},
   "outputs": [],
   "source": [
    "# Function to compute the total mass of any desired galaxy component\n",
    "# total mass of the component = sum of the mass of all particles making up that component\n",
    "\n",
    "def ComponentMass(filename, parttype):\n",
    "    # Inputs:\n",
    "    #    filename = name of file storing the data of the galaxy of interest: so far these are M?(?)_000.txt\n",
    "    #    parttype = the type of particle making up the component of interest\n",
    "    #      1 = Halo, 2 = Disk, 3 = Bulge\n",
    "    # Returns:\n",
    "    #    Mtot = the total mass of any desired galaxy component in 10^12 solar masses\n",
    "    \n",
    "    # receiving the time, total number of particles, and all the data from our target data file\n",
    "    time, totpart, data = Read(filename)\n",
    "    \n",
    "    # makes an index of all particles with the target type\n",
    "    index = np.where(data['type'] == parttype) \n",
    "    \n",
    "    # storing the masses of the target type\n",
    "    mindex = data['m'][index]   \n",
    "    \n",
    "    # sums all masses in the index of masses, puts the total mass into 10^12 instead of 10^10\n",
    "    # and rounds to 3 decimal places \n",
    "    # actual u.M_Sun units aren't appended in this function because QTable hates that\n",
    "    Mtot = np.around(np.sum(mindex)/100,3)\n",
    "    \n",
    "    return Mtot "
   ]
  },
  {
   "cell_type": "code",
   "execution_count": 3,
   "metadata": {},
   "outputs": [],
   "source": [
    "# testing the function to make sure it works\n",
    "#Mtot = ComponentMass(\"../../M31_000.txt\", 3)\n",
    "#print(Mtot)\n",
    "#print(Mtot*10**12)"
   ]
  },
  {
   "cell_type": "code",
   "execution_count": 4,
   "metadata": {},
   "outputs": [
    {
     "name": "stdout",
     "output_type": "stream",
     "text": [
      "Milky Way 1.975 0.075 0.01 2.06 0.041\n",
      "Andromeda 1.921 0.12 0.019 2.06 0.067\n",
      "Triangulum 0.187 0.009 0.0 0.196 0.046\n",
      "Local Group 4.083 0.204 0.029 4.316 0.054\n"
     ]
    }
   ],
   "source": [
    "# This cell is for making the table\n",
    "\n",
    "# This will be the column containing the names of our galaxies and the Local Group\n",
    "galname = [\"Milky Way\", \"Andromeda (M31)\", \"Triangulum (M33)\", \"Local Group\"]\n",
    "\n",
    "# Computing the masses of the halos of the Milky Way, Andromeda, and Triangulum\n",
    "# LGhalo is the total halo mass of the Local Group\n",
    "MWhalo = ComponentMass(\"../../MW_000.txt\", 1)\n",
    "M31halo = ComponentMass(\"../../M31_000.txt\", 1)\n",
    "M33halo = ComponentMass(\"../../M33_000.txt\", 1)\n",
    "LGhalo = MWhalo + M31halo + M33halo\n",
    "# This will be the column containing the masses of the halos\n",
    "halomass = [MWhalo, M31halo, M33halo, LGhalo]\n",
    "\n",
    "# Computing the masses of the disks of the Milky Way, Andromeda, and Triangulum\n",
    "# LGdisk is the total disk mass of the Local Group\n",
    "MWdisk = ComponentMass(\"../../MW_000.txt\", 2)\n",
    "M31disk = ComponentMass(\"../../M31_000.txt\", 2)\n",
    "M33disk = ComponentMass(\"../../M33_000.txt\", 2)\n",
    "LGdisk = np.around(MWdisk + M31disk + M33disk,3)\n",
    "# This will be the column containing the masses of the disks\n",
    "diskmass = [MWdisk, M31disk, M33disk, LGdisk]\n",
    "\n",
    "# Computing the masses of the disks of the Milky Way and Andromeda\n",
    "# LGbulge is the total bulge mass of the Local Group\n",
    "MWbulge = ComponentMass(\"../../MW_000.txt\", 3)\n",
    "M31bulge = ComponentMass(\"../../M31_000.txt\", 3)\n",
    "LGbulge = np.around(MWbulge + M31bulge,3)\n",
    "# This will be the column containing the masses of the bulges of the Milky Way and Andromeda\n",
    "bulgemass = [MWbulge, M31bulge, 0.0, LGbulge]\n",
    "\n",
    "# Computing the total masses of the Milky Way, Andromeda, Triangulum, and the Local Group\n",
    "# LGtot is the total mass of the Local Group\n",
    "MWtot = MWhalo + MWdisk + MWbulge\n",
    "M31tot = M31halo + M31disk + M31bulge\n",
    "M33tot = M33halo + M33disk\n",
    "LGtot = MWtot + M31tot + M33tot\n",
    "# This will be the column containing the total masses of the Milky Way, Andromeda, Triangulum, and the Local Group\n",
    "Mtotgal = [MWtot, M31tot, M33tot, LGtot]\n",
    "\n",
    "# Computing the baryon fractions of the Milky Way, Andromeda, Triangulum, and the Local Group\n",
    "MWfbar = np.around((MWdisk + MWbulge) / MWtot,3)\n",
    "M31fbar = np.around((M31disk + M31bulge) / M31tot,3)\n",
    "M33fbar = np.around(M33disk / M33tot,3)\n",
    "LGfbar = np.around((LGdisk + LGbulge) / LGtot,3)\n",
    "# This will be the column containing the baryon fractions of the Milky Way, Andromeda, Triangulum, and the Local Group\n",
    "fbar = [MWfbar, M31fbar, M33fbar, LGfbar]\n",
    "\n",
    "# Printing the table so I can copy the values into LaTeX\n",
    "for i in range(len(halomass)):\n",
    "    print(galname[i], halomass[i], diskmass[i], bulgemass[i], Mtotgal[i], fbar[i])\n",
    "\n",
    "# I scrapped the below code, but I'll leave it in to look back at later\n",
    "# assembling the table using Qtable from astropy.table\n",
    "#LGtable = QTable([galname, halomass, diskmass, bulgemass, Mtotgal, fbar],\n",
    "#                names = ('Galaxy Name', 'Halo Mass (10^12 solMass)', 'Disk Mass (10^12 solMass)',\n",
    "#                        'Bulge Mass (10^12 solMass)', 'Total Mass (10^12 solMass)', 'Baryon Fraction'),\n",
    "#                meta = {'name': 'Table of Sammie'})\n",
    "                \n",
    "# This will show the table\n",
    "# LGtable"
   ]
  },
  {
   "cell_type": "code",
   "execution_count": null,
   "metadata": {},
   "outputs": [],
   "source": []
  }
 ],
 "metadata": {
  "kernelspec": {
   "display_name": "Python 3",
   "language": "python",
   "name": "python3"
  },
  "language_info": {
   "codemirror_mode": {
    "name": "ipython",
    "version": 3
   },
   "file_extension": ".py",
   "mimetype": "text/x-python",
   "name": "python",
   "nbconvert_exporter": "python",
   "pygments_lexer": "ipython3",
   "version": "3.7.4"
  }
 },
 "nbformat": 4,
 "nbformat_minor": 2
}
