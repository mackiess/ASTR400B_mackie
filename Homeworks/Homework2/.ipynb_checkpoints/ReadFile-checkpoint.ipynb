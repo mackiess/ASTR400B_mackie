{
 "cells": [
  {
   "cell_type": "code",
   "execution_count": 10,
   "metadata": {},
   "outputs": [],
   "source": [
    "# HW2 Part 2 Read File Program\n",
    "\n",
    "import numpy as np          #imports NumPy module and renames it np in this script for ease of use\n",
    "import astropy.units as u   #imports AstroPy module and renames it u in this script for ease of use\n",
    "\n",
    "def Read(filename):           #defines 'Read' function to take in the name of whatever file we want to read\n",
    "\n",
    "    file = open(filename,'r') #opens the file of interest to 'r'ead\n",
    "\n",
    "    #first line\n",
    "    line1 = file.readline()      #looks at the first line\n",
    "    label, value = line1.split() #idk split with spaces?\n",
    "    time = float(value)*u.Myr    #attaches the right units to new variable 'time'\n",
    "    \n",
    "    #second line\n",
    "    line2 = file.readline()      #looks at the second line?\n",
    "    label, value = line2.split() #idk again\n",
    "    totpart = float(value)       #total particles is the number it finds (as a float)\n",
    "    \n",
    "    file.close() #closes the MW_000.txt file\n",
    "    \n",
    "    data = np.genfromtxt(filename,dtype=None,names=True,skip_header=3)\n",
    "    #new variable data that gets the column headers (line 4)\n",
    "    #dtype=None -> white space split; names=True -> arrays named after header elements; \n",
    "    #skip_header=3 -> goes to the 4th line (skips first 3)\n",
    "    \n",
    "    return time, totpart, data\n",
    "    #returns time value, total particles, and data header    "
   ]
  },
  {
   "cell_type": "code",
   "execution_count": null,
   "metadata": {},
   "outputs": [],
   "source": [
    "time, totpart, data = Read(\"../../MW_000.txt\")\n",
    "\n",
    "print(data['x'][2])"
   ]
  },
  {
   "cell_type": "code",
   "execution_count": null,
   "metadata": {},
   "outputs": [],
   "source": []
  }
 ],
 "metadata": {
  "kernelspec": {
   "display_name": "Python 3",
   "language": "python",
   "name": "python3"
  },
  "language_info": {
   "codemirror_mode": {
    "name": "ipython",
    "version": 3
   },
   "file_extension": ".py",
   "mimetype": "text/x-python",
   "name": "python",
   "nbconvert_exporter": "python",
   "pygments_lexer": "ipython3",
   "version": "3.7.4"
  }
 },
 "nbformat": 4,
 "nbformat_minor": 2
}
