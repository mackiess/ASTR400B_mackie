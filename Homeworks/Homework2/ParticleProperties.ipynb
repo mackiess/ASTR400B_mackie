{
 "cells": [
  {
   "cell_type": "code",
   "execution_count": 16,
   "metadata": {},
   "outputs": [],
   "source": [
    "# HW2 Part 3 Particle Properties Program\n",
    "\n",
    "import numpy as np          #imports NumPy module and renames it np in this script for ease of use\n",
    "import astropy.units as u   #imports AstroPy module and renames it u in this script for ease of use\\\n",
    "from ReadFile import Read   #imports Read from ReadFile\n",
    "\n",
    "def ParticleInfo(filename, parttype, partnum): #defining new function that will read in \n",
    "                                               #a file name, the particle type, and the particle number\n",
    "    time, totpart, data = Read(filename)       #gets all the info from the file\n",
    "    \n",
    "    #makes an index of all particles with the target type\n",
    "    index = np.where(data['type'] == parttype) \n",
    "    \n",
    "    #storing all the different fields of the target type\n",
    "    mindex = data['m'][index]   #storing the masses\n",
    "    xindex = data['x'][index]   #storing x-components of position\n",
    "    yindex = data['y'][index]   #storing y-components of position\n",
    "    zindex = data['z'][index]   #storing z-components of position\n",
    "    vxindex = data['vx'][index] #storing x-components of velocity\n",
    "    vyindex = data['vy'][index] #storing y-components of velocity\n",
    "    vzindex = data['vz'][index] #storing z-components of velocity\n",
    "    \n",
    "    #DISTANCE\n",
    "    magdist = np.sqrt(xindex[partnum-1]**2 + yindex[partnum-1]**2 + zindex[partnum-1]**2)\n",
    "    #the magnitude of a vector is the square root of the sum of its squared components\n",
    "    #i copied the syntax from the print statement in ReadFile\n",
    "    \n",
    "    magdist = np.around(magdist,3)*u.kpc  #rounds the magnitude distance to 3 decimal places\n",
    "                                          #and putting units\n",
    "    #VELOCITY\n",
    "    magv = np.sqrt(vxindex[partnum-1]**2 + vyindex[partnum-1]**2 + vzindex[partnum-1]**2)\n",
    "    #same math as for the distance\n",
    "    \n",
    "    magv = np.around(magv,3)*u.km/(1.0*u.s) #rounds the magnitude velocity to 3 decimal places\n",
    "                                            #and putting the units in there\n",
    "    #MASS\n",
    "    solmass= mindex[partnum-1]*(10**10)*u.M_sun #converting from 10^10 Msun to Msun \n",
    "                                              #and putting the units in there\n",
    "    return magdist, magv, solmass\n",
    "    #returns the magnitude of the distance, the magnitude of velocity, \n",
    "    #and the mass in solar masses"
   ]
  },
  {
   "cell_type": "code",
   "execution_count": 1,
   "metadata": {},
   "outputs": [],
   "source": [
    "# testing code\n",
    "#magdist, magv, solmass = ParticleInfo(\"../../MW_000.txt\", 2, 99) \n",
    "# ParticleInfo gets the info from MW_000.txt and returns the \n",
    "# magdist, magv, and solmass, which are pointed back to\n",
    "# new variables in this cell that share the same names\n",
    "\n",
    "#print(magdist, magv, solmass) #printinggggggg\n",
    "\n",
    "#lydist = np.around(magdist.to(u.lyr),3) #magdist is converted to ly, rounded to 3 decimal places\n",
    "                                        #and saved to the new variable lightyear distance \n",
    "\n",
    "#print(lydist, magv, solmass) #printinggggggg again"
   ]
  },
  {
   "cell_type": "code",
   "execution_count": null,
   "metadata": {},
   "outputs": [],
   "source": [
    "#Outputs for line 500104 in MW_000.txt:\n",
    "#4.245 kpc 312.135 km / s 1000000.0 solMass\n",
    "#13845.338 lyr 312.135 km / s 1000000.0 solMass\n",
    "#I did it! :D"
   ]
  },
  {
   "cell_type": "code",
   "execution_count": null,
   "metadata": {},
   "outputs": [],
   "source": [
    "# 02/02/2020 edit: changed 'partnum' to 'partnum-1' to match Prof. B code\n",
    "# also so I don't have to remember to subtract one from particle(s) of interest"
   ]
  }
 ],
 "metadata": {
  "kernelspec": {
   "display_name": "Python 3",
   "language": "python",
   "name": "python3"
  },
  "language_info": {
   "codemirror_mode": {
    "name": "ipython",
    "version": 3
   },
   "file_extension": ".py",
   "mimetype": "text/x-python",
   "name": "python",
   "nbconvert_exporter": "python",
   "pygments_lexer": "ipython3",
   "version": "3.7.4"
  }
 },
 "nbformat": 4,
 "nbformat_minor": 2
}
